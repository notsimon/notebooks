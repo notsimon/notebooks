{
 "metadata": {
  "kernelspec": {
   "codemirror_mode": {
    "name": "ipython",
    "version": 3
   },
   "display_name": "IPython (Python 3)",
   "language": "python",
   "name": "python3"
  },
  "name": "",
  "signature": "sha256:684623d3e7f030e211982d2daeab8898e22a50735898358712702b90ef8a653b"
 },
 "nbformat": 3,
 "nbformat_minor": 0,
 "worksheets": [
  {
   "cells": [
    {
     "cell_type": "code",
     "collapsed": false,
     "input": [
      "import requests"
     ],
     "language": "python",
     "metadata": {},
     "outputs": [],
     "prompt_number": 1
    },
    {
     "cell_type": "code",
     "collapsed": false,
     "input": [
      "r = requests.get('http://www.meteofrance.com/mf3-rpc-portlet/rest/pluie/751010')\n",
      "r.json()"
     ],
     "language": "python",
     "metadata": {},
     "outputs": [
      {
       "metadata": {},
       "output_type": "pyout",
       "prompt_number": 17,
       "text": [
        "{'hasData': True,\n",
        " 'niveauPluieText': ['De17h25 \u00e0 17h30 : Pas de pr\u00e9cipitations',\n",
        "  'De17h30 \u00e0 17h40 : Pr\u00e9cipitations faibles',\n",
        "  'De17h40 \u00e0 18h05 : Pr\u00e9cipitations mod\u00e9r\u00e9es',\n",
        "  'De18h05 \u00e0 18h25 : Pr\u00e9cipitations faibles'],\n",
        " 'echeance': '201411171725',\n",
        " 'idLieu': '751010',\n",
        " 'lastUpdate': '17h15',\n",
        " 'dataCadran': [{'color': 'ffffff',\n",
        "   'niveauPluieText': 'Pas de pr\u00e9cipitations',\n",
        "   'niveauPluie': 1},\n",
        "  {'color': '5ec5ed',\n",
        "   'niveauPluieText': 'Pr\u00e9cipitations faibles',\n",
        "   'niveauPluie': 2},\n",
        "  {'color': '5ec5ed',\n",
        "   'niveauPluieText': 'Pr\u00e9cipitations faibles',\n",
        "   'niveauPluie': 2},\n",
        "  {'color': '009ee0',\n",
        "   'niveauPluieText': 'Pr\u00e9cipitations mod\u00e9r\u00e9es',\n",
        "   'niveauPluie': 3},\n",
        "  {'color': '009ee0',\n",
        "   'niveauPluieText': 'Pr\u00e9cipitations mod\u00e9r\u00e9es',\n",
        "   'niveauPluie': 3},\n",
        "  {'color': '009ee0',\n",
        "   'niveauPluieText': 'Pr\u00e9cipitations mod\u00e9r\u00e9es',\n",
        "   'niveauPluie': 3},\n",
        "  {'color': '009ee0',\n",
        "   'niveauPluieText': 'Pr\u00e9cipitations mod\u00e9r\u00e9es',\n",
        "   'niveauPluie': 3},\n",
        "  {'color': '009ee0',\n",
        "   'niveauPluieText': 'Pr\u00e9cipitations mod\u00e9r\u00e9es',\n",
        "   'niveauPluie': 3},\n",
        "  {'color': '5ec5ed',\n",
        "   'niveauPluieText': 'Pr\u00e9cipitations faibles',\n",
        "   'niveauPluie': 2},\n",
        "  {'color': '5ec5ed',\n",
        "   'niveauPluieText': 'Pr\u00e9cipitations faibles',\n",
        "   'niveauPluie': 2},\n",
        "  {'color': '5ec5ed',\n",
        "   'niveauPluieText': 'Pr\u00e9cipitations faibles',\n",
        "   'niveauPluie': 2},\n",
        "  {'color': '5ec5ed',\n",
        "   'niveauPluieText': 'Pr\u00e9cipitations faibles',\n",
        "   'niveauPluie': 2}],\n",
        " 'isAvailable': True}"
       ]
      }
     ],
     "prompt_number": 17
    },
    {
     "cell_type": "code",
     "collapsed": false,
     "input": [
      "r = requests.get('http://www.meteofrance.com/mf3-rpc-portlet/rest/lieu/facet/previsions/search/75015')\n",
      "r.json()"
     ],
     "language": "python",
     "metadata": {},
     "outputs": [
      {
       "metadata": {},
       "output_type": "pyout",
       "prompt_number": 16,
       "text": [
        "[{'altitude': 36,\n",
        "  'nbView': 0,\n",
        "  'directDisplay': False,\n",
        "  'positionAffichageCarteY': 0,\n",
        "  'altitudeMin': 0,\n",
        "  'nomAffiche': 'Paris 15e  Arrondissement (75015)',\n",
        "  'altitudeMax': 0,\n",
        "  'id': '751150',\n",
        "  'parent': {'altitude': 0,\n",
        "   'nbView': 0,\n",
        "   'directDisplay': False,\n",
        "   'positionAffichageCarteY': 0,\n",
        "   'altitudeMin': 0,\n",
        "   'nomAffiche': 'Paris',\n",
        "   'altitudeMax': 0,\n",
        "   'id': 'DEPT75',\n",
        "   'parent': None,\n",
        "   'pluieAvalaible': False,\n",
        "   'nbHabitants': 0,\n",
        "   'lat': 0.0,\n",
        "   'timezone': None,\n",
        "   'onTheSnowSkiiId': 0,\n",
        "   'value': 'Paris',\n",
        "   'type': 'DEPT_FRANCE',\n",
        "   'slug': 'paris',\n",
        "   'positionAffichageCarteX': 0,\n",
        "   'distance': 0.0,\n",
        "   'lon': 0.0,\n",
        "   'codePostal': '75',\n",
        "   'lastMareeDate': None},\n",
        "  'pluieAvalaible': True,\n",
        "  'nbHabitants': 238914,\n",
        "  'lat': 48.841353,\n",
        "  'timezone': 'Europe/Paris',\n",
        "  'onTheSnowSkiiId': 0,\n",
        "  'value': 'Paris 15e  Arrondissement (75015)',\n",
        "  'type': 'VILLE_FRANCE',\n",
        "  'slug': 'paris-15e-arrondissement',\n",
        "  'positionAffichageCarteX': 0,\n",
        "  'distance': 0.0,\n",
        "  'lon': 2.299742,\n",
        "  'codePostal': '75015',\n",
        "  'lastMareeDate': None}]"
       ]
      }
     ],
     "prompt_number": 16
    }
   ],
   "metadata": {}
  }
 ]
}